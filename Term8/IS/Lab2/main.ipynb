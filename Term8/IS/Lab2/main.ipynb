{
 "cells": [
  {
   "attachments": {},
   "cell_type": "markdown",
   "metadata": {},
   "source": [
    "## Lab 2\n",
    "\n",
    "### Variant 9"
   ]
  },
  {
   "attachments": {},
   "cell_type": "markdown",
   "metadata": {},
   "source": [
    "### Task 1:\n",
    "Виконати набір вправ. Всі завдання виконати 2 способами: \n",
    "- а) з використанням універсальних функцій бібліотеки NumPy. \n",
    "- b) за допомогою ітеративних конструкцій (з використанням циклів, спискових включень тощо).\n",
    "- с) для обох випадків підрахувати час виконання скрипту та\n",
    "зробити висновки.\n",
    "\n",
    "Exersizes: 1, 2, 4, 7, 8, 12, 15, 16, 20\n",
    "\n",
    "Встановимо значення змінних та обʼявляємо допоміжні функції для виконання завдань:"
   ]
  },
  {
   "cell_type": "code",
   "execution_count": 2,
   "metadata": {},
   "outputs": [],
   "source": [
    "import numpy as np\n",
    "\n",
    "def eprint(numpy_f, iter_f):\n",
    "    '''print with format for exersizes'''\n",
    "    print(\"numpy:\")\n",
    "    print(numpy_f())\n",
    "    %timeit -n 1000 numpy_f() \n",
    "\n",
    "    print(\"\\niter:\")\n",
    "    print(iter_f())\n",
    "    %timeit -n 1000 iter_f() \n",
    "\n",
    "# n = int(input(\"Enter a number: \"))\n",
    "n = 50\n",
    "m = 100"
   ]
  },
  {
   "attachments": {},
   "cell_type": "markdown",
   "metadata": {},
   "source": [
    "#### Exersize 1:\n",
    "\n",
    "Вводиться число n. Вивести масив розміру n×n, в якому по діагоналі йдуть числа від 1 до n, а інші числа дорівнюють 0."
   ]
  },
  {
   "cell_type": "code",
   "execution_count": 26,
   "metadata": {},
   "outputs": [
    {
     "name": "stdout",
     "output_type": "stream",
     "text": [
      "numpy:\n",
      "[[ 1  0  0 ...  0  0  0]\n",
      " [ 0  2  0 ...  0  0  0]\n",
      " [ 0  0  3 ...  0  0  0]\n",
      " ...\n",
      " [ 0  0  0 ... 48  0  0]\n",
      " [ 0  0  0 ...  0 49  0]\n",
      " [ 0  0  0 ...  0  0 50]]\n",
      "4.75 µs ± 989 ns per loop (mean ± std. dev. of 7 runs, 1,000 loops each)\n",
      "\n",
      "iter:\n",
      "[[ 1  0  0 ...  0  0  0]\n",
      " [ 0  2  0 ...  0  0  0]\n",
      " [ 0  0  3 ...  0  0  0]\n",
      " ...\n",
      " [ 0  0  0 ... 48  0  0]\n",
      " [ 0  0  0 ...  0 49  0]\n",
      " [ 0  0  0 ...  0  0 50]]\n",
      "123 µs ± 840 ns per loop (mean ± std. dev. of 7 runs, 1,000 loops each)\n"
     ]
    }
   ],
   "source": [
    "# _n - stands for numpy implementation\n",
    "# _i - stands for iterational/comprehensional implementation\n",
    "\n",
    "def ex1n():\n",
    "    return np.diag(range(1, n + 1))\n",
    "\n",
    "def ex1i():\n",
    "    ls = [[(i + 1 if i == j else 0) for i  in range(n)] for j in range(n)]\n",
    "    return np.array(ls, dtype=np.int32)\n",
    "\n",
    "eprint(ex1n, ex1i)\n"
   ]
  },
  {
   "attachments": {},
   "cell_type": "markdown",
   "metadata": {},
   "source": [
    "Як бачимо з замірів часу, створення масиву з використанням універсальних функцій бібліотеки NumPy займає значно менше часу, ніж створення масиву за допомогою спискових виразів."
   ]
  },
  {
   "attachments": {},
   "cell_type": "markdown",
   "metadata": {},
   "source": [
    "#### Exersize 2:\n",
    "\n",
    "Вводиться число n. Розставити 1 та 0 у шаховому порядку, починаючи з 1 в матриці розміром n×n, використовуючи слайсінг."
   ]
  },
  {
   "cell_type": "code",
   "execution_count": 4,
   "metadata": {},
   "outputs": [
    {
     "name": "stdout",
     "output_type": "stream",
     "text": [
      "numpy:\n",
      "[[1 0 1 ... 0 1 0]\n",
      " [0 1 0 ... 1 0 1]\n",
      " [1 0 1 ... 0 1 0]\n",
      " ...\n",
      " [0 1 0 ... 1 0 1]\n",
      " [1 0 1 ... 0 1 0]\n",
      " [0 1 0 ... 1 0 1]]\n",
      "1.71 µs ± 442 ns per loop (mean ± std. dev. of 7 runs, 1,000 loops each)\n",
      "\n",
      "iter:\n",
      "[[1 0 1 ... 0 1 0]\n",
      " [0 1 0 ... 1 0 1]\n",
      " [1 0 1 ... 0 1 0]\n",
      " ...\n",
      " [0 1 0 ... 1 0 1]\n",
      " [1 0 1 ... 0 1 0]\n",
      " [0 1 0 ... 1 0 1]]\n",
      "158 µs ± 1.08 µs per loop (mean ± std. dev. of 7 runs, 1,000 loops each)\n"
     ]
    }
   ],
   "source": [
    "def ex2n():\n",
    "    res = np.zeros((n, n), dtype=np.int32)\n",
    "    res[::2, ::2] = 1\n",
    "    res[1::2, 1::2] = 1\n",
    "    return res\n",
    "\n",
    "def ex2i():\n",
    "    ls = [[(1 if i % 2 == j % 2 else 0) for i in range(n)] for j in range(n)]\n",
    "    return np.array(ls, dtype=np.int32)\n",
    "\n",
    "eprint(ex2n, ex2i)"
   ]
  },
  {
   "attachments": {},
   "cell_type": "markdown",
   "metadata": {},
   "source": [
    "Спискові вирази набагато повільніші за вбудовані функції numpy."
   ]
  },
  {
   "attachments": {},
   "cell_type": "markdown",
   "metadata": {},
   "source": [
    "#### Exersize 4:\n",
    "\n",
    "Вводяться числа n і m. Вивести масив розміру n×m, в якому у першому рядку (рядок з нулевим індексом) йдуть числа від 0 до m–1, а всі інші елементи матриці дорівнюють 0."
   ]
  },
  {
   "cell_type": "code",
   "execution_count": 5,
   "metadata": {},
   "outputs": [
    {
     "name": "stdout",
     "output_type": "stream",
     "text": [
      "numpy:\n",
      "[[ 0  1  2 ... 97 98 99]\n",
      " [ 0  0  0 ...  0  0  0]\n",
      " [ 0  0  0 ...  0  0  0]\n",
      " ...\n",
      " [ 0  0  0 ...  0  0  0]\n",
      " [ 0  0  0 ...  0  0  0]\n",
      " [ 0  0  0 ...  0  0  0]]\n",
      "1.17 µs ± 264 ns per loop (mean ± std. dev. of 7 runs, 1,000 loops each)\n",
      "\n",
      "iter:\n",
      "[[ 0  1  2 ... 97 98 99]\n",
      " [ 0  0  0 ...  0  0  0]\n",
      " [ 0  0  0 ...  0  0  0]\n",
      " ...\n",
      " [ 0  0  0 ...  0  0  0]\n",
      " [ 0  0  0 ...  0  0  0]\n",
      " [ 0  0  0 ...  0  0  0]]\n",
      "256 µs ± 1.98 µs per loop (mean ± std. dev. of 7 runs, 1,000 loops each)\n"
     ]
    }
   ],
   "source": [
    "def ex4n():\n",
    "    res = np.zeros((n, m), dtype=np.int32)\n",
    "    res[0] = np.arange(m)\n",
    "    return res\n",
    "    \n",
    "\n",
    "def ex4i():\n",
    "    return np.array([[0 if i != 0 else j for j in range(m)] for i in range(n)])\n",
    "\n",
    "eprint(ex4n, ex4i)"
   ]
  },
  {
   "attachments": {},
   "cell_type": "markdown",
   "metadata": {},
   "source": [
    "Спискові вирази набагато повільніші за вбудовані функції numpy."
   ]
  },
  {
   "attachments": {},
   "cell_type": "markdown",
   "metadata": {},
   "source": [
    "#### Exersize 7:\n",
    "\n",
    "З клавіатури вводиться масив. Замінити всі нульові елементи на –1."
   ]
  },
  {
   "cell_type": "code",
   "execution_count": 6,
   "metadata": {},
   "outputs": [
    {
     "name": "stdout",
     "output_type": "stream",
     "text": [
      "numpy:\n",
      "[-1  3  8  4  2  8  7  7  8  2  4  5  9  2  4  1  8  8  4  3  6  1  3  2\n",
      "  2  7  3  3  7  7  7  8  9  6  4  6  5  5  6  4  5  1  1  8  3 -1  4  5\n",
      "  9  3]\n",
      "618 ns ± 11.1 ns per loop (mean ± std. dev. of 7 runs, 1,000 loops each)\n",
      "\n",
      "iter:\n",
      "[-1  3  8  4  2  8  7  7  8  2  4  5  9  2  4  1  8  8  4  3  6  1  3  2\n",
      "  2  7  3  3  7  7  7  8  9  6  4  6  5  5  6  4  5  1  1  8  3 -1  4  5\n",
      "  9  3]\n",
      "3.17 µs ± 95.9 ns per loop (mean ± std. dev. of 7 runs, 1,000 loops each)\n"
     ]
    }
   ],
   "source": [
    "# arr_n = [int(x) for x in input(\"Enter array: \").split()]\n",
    "\n",
    "arr_n = np.random.randint(0, 10, n)\n",
    "arr_i = arr_n.copy()\n",
    "\n",
    "def ex7n():\n",
    "    arr_n[arr_n == 0] = -1\n",
    "    return arr_n\n",
    "\n",
    "def ex7i():\n",
    "    for i in range(n):\n",
    "        if arr_i[i] == 0:\n",
    "            arr_i[i] = -1\n",
    "    return arr_i\n",
    "\n",
    "eprint(ex7n, ex7i)"
   ]
  },
  {
   "attachments": {},
   "cell_type": "markdown",
   "metadata": {},
   "source": [
    "Оскільки в цій вправі ми не створюєм масив списковим виразом, а лише міняємо необхідні елементи,\n",
    "\n",
    "а також тому що складність лінійна - різниця в часі виконання між використанням універсальних функцій бібліотеки NumPy та спискових виразів менша ніж у попередніх вправах."
   ]
  },
  {
   "attachments": {},
   "cell_type": "markdown",
   "metadata": {},
   "source": [
    "#### Exersize 8:\n",
    "З клавіатури вводиться масив. Підрахувати в ньому кількість нульових та ненульових елементів."
   ]
  },
  {
   "cell_type": "code",
   "execution_count": 27,
   "metadata": {},
   "outputs": [
    {
     "name": "stdout",
     "output_type": "stream",
     "text": [
      "numpy:\n",
      "(3, 47)\n",
      "815 ns ± 51.8 ns per loop (mean ± std. dev. of 7 runs, 1,000 loops each)\n",
      "\n",
      "iter:\n",
      "(3, 47)\n",
      "2.44 µs ± 121 ns per loop (mean ± std. dev. of 7 runs, 1,000 loops each)\n"
     ]
    }
   ],
   "source": [
    "# arr_n = [int(x) for x in input(\"Enter array: \").split()]\n",
    "\n",
    "arr_n = np.random.randint(0, 10, n)\n",
    "arr_i = arr_n.copy()\n",
    "\n",
    "def ex8n():\n",
    "    zerro_len = len(arr_n[arr_n == 0])\n",
    "    return zerro_len, len(arr_n) - zerro_len\n",
    "\n",
    "def ex8i():\n",
    "    zerro_len = len([i for i in arr_i if i == 0])\n",
    "    return zerro_len, len(arr_n) - zerro_len\n",
    "\n",
    "eprint(ex8n, ex8i)"
   ]
  },
  {
   "attachments": {},
   "cell_type": "markdown",
   "metadata": {},
   "source": [
    "Оскільки в цій вправі ми не створюєм масив списковим виразом, а лише міняємо необхідні елементи,\n",
    "\n",
    "а також тому що складність лінійна - різниця в часі виконання між використанням універсальних функцій бібліотеки NumPy та спискових виразів менша \n",
    "\n",
    "ніж у вправах, де використовувалися двовимірні спискові вирази."
   ]
  },
  {
   "attachments": {},
   "cell_type": "markdown",
   "metadata": {},
   "source": [
    "#### Exersize 12:\n",
    "\n",
    "Створити масив одиниць розміром n×n та створити в ньому «рамку», що утворюється з 0."
   ]
  },
  {
   "cell_type": "code",
   "execution_count": 8,
   "metadata": {},
   "outputs": [
    {
     "name": "stdout",
     "output_type": "stream",
     "text": [
      "numpy:\n",
      "[[0 0 0 ... 0 0 0]\n",
      " [0 1 1 ... 1 1 0]\n",
      " [0 1 1 ... 1 1 0]\n",
      " ...\n",
      " [0 1 1 ... 1 1 0]\n",
      " [0 1 1 ... 1 1 0]\n",
      " [0 0 0 ... 0 0 0]]\n",
      "2.33 µs ± 669 ns per loop (mean ± std. dev. of 7 runs, 1,000 loops each)\n",
      "\n",
      "iter:\n",
      "[[0 0 0 ... 0 0 0]\n",
      " [0 1 1 ... 1 1 0]\n",
      " [0 1 1 ... 1 1 0]\n",
      " ...\n",
      " [0 1 1 ... 1 1 0]\n",
      " [0 1 1 ... 1 1 0]\n",
      " [0 0 0 ... 0 0 0]]\n",
      "14.2 µs ± 503 ns per loop (mean ± std. dev. of 7 runs, 1,000 loops each)\n"
     ]
    }
   ],
   "source": [
    "def ex12n():\n",
    "    res = np.ones((n, n), dtype=np.int32)\n",
    "    res[0, :] = 0\n",
    "    res[-1, :] = 0\n",
    "    res[:, 0] = 0\n",
    "    res[:, -1] = 0\n",
    "    \n",
    "    return res\n",
    "\n",
    "def ex12i():\n",
    "    res = np.ones((n, n), dtype=np.int32)\n",
    "    for i in range(n):\n",
    "        res[0, i] = 0\n",
    "        res[-1, i] = 0\n",
    "        res[i, 0] = 0\n",
    "        res[i, -1] = 0\n",
    "    return res\n",
    "\n",
    "eprint(ex12n, ex12i)"
   ]
  },
  {
   "attachments": {},
   "cell_type": "markdown",
   "metadata": {},
   "source": [
    "Оскільки в цій вправі ми не створюєм масив списковим виразом, а лише міняємо необхідні елементи,\n",
    "\n",
    "а також тому що складність лінійна - різниця в часі виконання між використанням універсальних функцій бібліотеки NumPy та спискових виразів менша \n",
    "\n",
    "ніж у вправах, де використовувалися двовимірні спискові вирази."
   ]
  },
  {
   "attachments": {},
   "cell_type": "markdown",
   "metadata": {},
   "source": [
    "#### Exersize 15:\n",
    "\n",
    "Заповнити парні стовпчикі матриці розміром n×n одиницями, а непарні – нулями."
   ]
  },
  {
   "cell_type": "code",
   "execution_count": 9,
   "metadata": {},
   "outputs": [
    {
     "name": "stdout",
     "output_type": "stream",
     "text": [
      "numpy:\n",
      "[[0 1 0 ... 1 0 1]\n",
      " [0 1 0 ... 1 0 1]\n",
      " [0 1 0 ... 1 0 1]\n",
      " ...\n",
      " [0 1 0 ... 1 0 1]\n",
      " [0 1 0 ... 1 0 1]\n",
      " [0 1 0 ... 1 0 1]]\n",
      "1.21 µs ± 190 ns per loop (mean ± std. dev. of 7 runs, 1,000 loops each)\n",
      "\n",
      "iter:\n",
      "[[0 1 0 ... 1 0 1]\n",
      " [0 1 0 ... 1 0 1]\n",
      " [0 1 0 ... 1 0 1]\n",
      " ...\n",
      " [0 1 0 ... 1 0 1]\n",
      " [0 1 0 ... 1 0 1]\n",
      " [0 1 0 ... 1 0 1]]\n",
      "82.5 µs ± 536 ns per loop (mean ± std. dev. of 7 runs, 1,000 loops each)\n"
     ]
    }
   ],
   "source": [
    "def ex15n():\n",
    "    res = np.zeros((n, n), dtype=np.int32)\n",
    "    res[:, 1::2] = 1\n",
    "    return res\n",
    "\n",
    "def ex15i():\n",
    "    res = np.zeros((n, n), dtype=np.int32)\n",
    "    for i in range(n):\n",
    "        for j in range(1, n, 2):\n",
    "            res[i, j] = 1\n",
    "    return res\n",
    "\n",
    "eprint(ex15n, ex15i)\n"
   ]
  },
  {
   "attachments": {},
   "cell_type": "markdown",
   "metadata": {},
   "source": [
    "В даній вправі складність квадратична, тому різниця в часі виконатння більша ніж у вправах з лінійною складністю."
   ]
  },
  {
   "attachments": {},
   "cell_type": "markdown",
   "metadata": {},
   "source": [
    "#### Exersize 16:\n",
    "\n",
    "Заповнити вектор значеннями від 0 до n. Всі значення, що більші за n/4 та менші за 3n/4 замінити нулями."
   ]
  },
  {
   "cell_type": "code",
   "execution_count": 10,
   "metadata": {},
   "outputs": [
    {
     "name": "stdout",
     "output_type": "stream",
     "text": [
      "numpy:\n",
      "[0 0 0 0 0 0 0 0 0 0 0 0 0 0 0 0 0 0 0 0 0 0 0 0 0 0 0 0 0 0 0 0 0 0 0 0 0\n",
      " 0 0 0 0 0 0 0 0 0 0 0 0 0]\n",
      "2.51 µs ± 808 ns per loop (mean ± std. dev. of 7 runs, 1,000 loops each)\n",
      "\n",
      "iter:\n",
      "[0 0 0 0 0 0 0 0 0 0 0 0 0 0 0 0 0 0 0 0 0 0 0 0 0 0 0 0 0 0 0 0 0 0 0 0 0\n",
      " 0 0 0 0 0 0 0 0 0 0 0 0 0]\n",
      "4.2 µs ± 96.3 ns per loop (mean ± std. dev. of 7 runs, 1,000 loops each)\n"
     ]
    }
   ],
   "source": [
    "def ex16n():\n",
    "    res = np.arange(0, n)\n",
    "    res[res > n/4] = 0\n",
    "    res[res < 3*n/4] = 0\n",
    "    return res\n",
    "\n",
    "def ex16i():\n",
    "    res = np.array([0 if i > n/4 or i < 3*n/4 else i for i in range(n)])\n",
    "    return res\n",
    "\n",
    "eprint(ex16n, ex16i)"
   ]
  },
  {
   "attachments": {},
   "cell_type": "markdown",
   "metadata": {},
   "source": [
    "В даній вправі наймерша різниця в часі виконання між використанням універсальних функцій бібліотеки NumPy та спискових виразів.\n",
    "\n",
    "Ймовірно це повʼязано з неефективною реалізацією масок в бібліотеці NumPy."
   ]
  },
  {
   "attachments": {},
   "cell_type": "markdown",
   "metadata": {},
   "source": [
    "#### Exersize 20:\n",
    "\n",
    "Згенерувати вектор із n випадкових елементів, що лежать в інтервалі (0,1). Замінити максимальний елемент на 0."
   ]
  },
  {
   "cell_type": "code",
   "execution_count": 11,
   "metadata": {},
   "outputs": [
    {
     "name": "stdout",
     "output_type": "stream",
     "text": [
      "numpy:\n",
      "[0 0 1 1 1 0 1 1 1 0 0 0 0 1 0 0 1 0 0 0 0 1 1 1 1 0 0 0 1 1 0 0 1 1 1 0 1\n",
      " 1 1 1 1 0 0 0 1 1 1 0 0 1]\n",
      "3.38 µs ± 181 ns per loop (mean ± std. dev. of 7 runs, 1,000 loops each)\n",
      "\n",
      "iter:\n",
      "[0 0 0 1 0 1 1 0 1 0 1 0 0 1 1 0 1 0 1 0 0 0 0 1 1 0 1 0 1 0 0 1 0 0 1 0 0\n",
      " 1 0 0 0 0 0 1 0 1 0 0 0 1]\n",
      "8.04 µs ± 32.9 ns per loop (mean ± std. dev. of 7 runs, 1,000 loops each)\n"
     ]
    }
   ],
   "source": [
    "def ex20n():\n",
    "    res = np.random.randint(0, 2, n)\n",
    "    res[res.argmax()] = 0\n",
    "    return res\n",
    "\n",
    "def ex20i():\n",
    "    res = np.random.randint(0, 2, n)\n",
    "    max_i = 0\n",
    "    for i in range(n):\n",
    "        if res[i] > res[max_i]:\n",
    "            max_i = i\n",
    "            \n",
    "    res[max_i] = 0\n",
    "    return res\n",
    "\n",
    "eprint(ex20n, ex20i)"
   ]
  },
  {
   "attachments": {},
   "cell_type": "markdown",
   "metadata": {},
   "source": [
    "В даній вправі теж одна з найменших різниць в часі виконання. Але все ще MyPy ефективніше щонайменше в 2 рази. "
   ]
  },
  {
   "attachments": {},
   "cell_type": "markdown",
   "metadata": {},
   "source": [
    "### Task 2:\n",
    "\n",
    "Розв’язати систему алгебраїчних рівнянь за допомогою\n",
    "формул Крамера і виконати перевірку за допомогою:\n",
    "- a) матричного множення;\n",
    "- b) оберненої матриці;\n",
    "- c) функції numpy.linalg.solve().\n",
    "\n",
    "Порівняти всі рішення за допомогою функції numpy.allclose().\n",
    "\n",
    "$\n",
    "\\begin{cases}\n",
    "  x_1 + 2x_2 + x_3 + x_4 = 8, \\\\\n",
    "  2x_1 + x_2 + x_3 + x_4 = 5, \\\\\n",
    "  x_1 - x_2 + 2x_3 + x_4 = -1, \\\\\n",
    "  x_1 + x_2 - x_3 + 3x_4 = 10, \\\\\n",
    "\\end{cases}\n",
    "$"
   ]
  },
  {
   "attachments": {},
   "cell_type": "markdown",
   "metadata": {},
   "source": [
    "Визначимо задану систему рівнянь:"
   ]
  },
  {
   "cell_type": "code",
   "execution_count": 12,
   "metadata": {},
   "outputs": [],
   "source": [
    "A = np.array([[1, 2, 1, 1],\n",
    "              [2, 1, 1, 1],\n",
    "              [1, -1, 2, 1],\n",
    "              [1, 1, -1, 3]])\n",
    "\n",
    "b = np.array([8, 5, -1, 10])"
   ]
  },
  {
   "attachments": {},
   "cell_type": "markdown",
   "metadata": {},
   "source": [
    "#### Розв'яжемо систему за допомогою формул Крамера (правило Крамера):"
   ]
  },
  {
   "cell_type": "code",
   "execution_count": 13,
   "metadata": {},
   "outputs": [],
   "source": [
    "def cramer_rule(A, b):\n",
    "    det_A = np.linalg.det(A)\n",
    "    if det_A == 0:\n",
    "        raise ValueError(\"Cramer's rule is not applicable\")\n",
    "    else:\n",
    "        n = A.shape[0]\n",
    "        x = np.zeros(n)\n",
    "        for i in range(n):\n",
    "            A_temp = A.copy()\n",
    "            A_temp[:, i] = b\n",
    "            x[i] = np.linalg.det(A_temp) / det_A\n",
    "        return x"
   ]
  },
  {
   "cell_type": "code",
   "execution_count": 14,
   "metadata": {},
   "outputs": [
    {
     "name": "stdout",
     "output_type": "stream",
     "text": [
      "[-0.05263158  2.94736842 -0.15789474  2.31578947]\n",
      "14.2 µs ± 1.98 µs per loop (mean ± std. dev. of 7 runs, 1,000 loops each)\n"
     ]
    }
   ],
   "source": [
    "x_cramer = cramer_rule(A, b)\n",
    "print(x_cramer)\n",
    "%timeit -n 1000 cramer_rule(A, b)"
   ]
  },
  {
   "attachments": {},
   "cell_type": "markdown",
   "metadata": {},
   "source": [
    "#### a) Виконаємо перевірку за допомогою **матричного множення**:"
   ]
  },
  {
   "cell_type": "code",
   "execution_count": 15,
   "metadata": {},
   "outputs": [
    {
     "name": "stdout",
     "output_type": "stream",
     "text": [
      "\n",
      "A * x_cramer:  [ 8.  5. -1. 10.]\n",
      "954 ns ± 451 ns per loop (mean ± std. dev. of 7 runs, 1,000 loops each)\n",
      "\n",
      "np.allclose(A_x, b):  True\n"
     ]
    }
   ],
   "source": [
    "A_x = np.dot(A, x_cramer)\n",
    "print(\"\\nA * x_cramer: \", A_x)\n",
    "%timeit -n 1000 np.dot(A, x_cramer)\n",
    "\n",
    "print(\"\\nnp.allclose(A_x, b): \",  np.allclose(A_x, b))"
   ]
  },
  {
   "attachments": {},
   "cell_type": "markdown",
   "metadata": {},
   "source": [
    "#### a) Виконаємо перевірку за допомогою **оберненої матриці**:"
   ]
  },
  {
   "cell_type": "code",
   "execution_count": 16,
   "metadata": {},
   "outputs": [
    {
     "name": "stdout",
     "output_type": "stream",
     "text": [
      "A_inv:\n",
      " [[-0.52631579  0.89473684 -0.21052632 -0.05263158]\n",
      " [ 0.47368421 -0.10526316 -0.21052632 -0.05263158]\n",
      " [ 0.42105263 -0.31578947  0.36842105 -0.15789474]\n",
      " [ 0.15789474 -0.36842105  0.26315789  0.31578947]]\n",
      "5.34 µs ± 1.2 µs per loop (mean ± std. dev. of 7 runs, 1,000 loops each)\n",
      "\n",
      "A_inv * b: [-0.05263158  2.94736842 -0.15789474  2.31578947]\n",
      "1.31 µs ± 357 ns per loop (mean ± std. dev. of 7 runs, 1,000 loops each)\n",
      "\n",
      "p.allclose(x_cramer, x_inv):  True\n"
     ]
    }
   ],
   "source": [
    "A_inv = np.linalg.inv(A)\n",
    "print(\"A_inv:\\n\", A_inv)\n",
    "%timeit -n 1000 np.linalg.inv(A)\n",
    "x_inv = np.dot(A_inv, b)\n",
    "print(\"\\nA_inv * b:\", x_inv)\n",
    "%timeit -n 1000 np.dot(A_inv, b)\n",
    "\n",
    "print(\"\\np.allclose(x_cramer, x_inv): \", np.allclose(x_cramer, x_inv))"
   ]
  },
  {
   "attachments": {},
   "cell_type": "markdown",
   "metadata": {},
   "source": [
    "#### a) Виконаємо перевірку за допомогою **функції numpy.linalg.solve()**:"
   ]
  },
  {
   "cell_type": "code",
   "execution_count": 17,
   "metadata": {},
   "outputs": [
    {
     "name": "stdout",
     "output_type": "stream",
     "text": [
      "\n",
      "np.linalg.solve(): [-0.05263158  2.94736842 -0.15789474  2.31578947]\n",
      "4.11 µs ± 866 ns per loop (mean ± std. dev. of 7 runs, 1,000 loops each)\n",
      "\n",
      "np.allclose(x_cramer, x_solve):  True\n"
     ]
    }
   ],
   "source": [
    "x_solve = np.linalg.solve(A, b)\n",
    "print(\"\\nnp.linalg.solve():\", x_solve)\n",
    "%timeit -n 1000 np.linalg.solve(A, b)\n",
    "\n",
    "print(\"\\nnp.allclose(x_cramer, x_solve): \", np.allclose(x_cramer, x_solve))"
   ]
  },
  {
   "attachments": {},
   "cell_type": "markdown",
   "metadata": {},
   "source": [
    "### Task 3:\n",
    "Обчислити значення матричного виразу\n",
    "- а) з використанням універсальних функцій бібліотеки NumPy.\n",
    "- b) за допомогою ітеративних конструкцій (з використанням циклів, спискових включень тощо).\n",
    "- с) для обох випадків підрахувати час виконання скрипту та зробити висновок.\n",
    "\n",
    "Порівняти всі рішення за допомогою функції numpy.allclose().\n",
    "\n",
    "$\n",
    "2A - (A^2 + B) B \n",
    "$\n",
    "\n",
    "A = $ \\begin{pmatrix}\n",
    "  1 & 4 & 2 \\\\\n",
    "  2 & 1 & -2 \\\\\n",
    "  0 & 1 & -1 \\\\\n",
    "\\end{pmatrix} $, \n",
    "B = $ \\begin{pmatrix}\n",
    "  4 & 6 & -2 \\\\\n",
    "  4 & 10 & 1 \\\\\n",
    "  2 & 4 & -5 \\\\\n",
    "\\end{pmatrix} $"
   ]
  },
  {
   "attachments": {},
   "cell_type": "markdown",
   "metadata": {},
   "source": [
    "Визначимо задані матриці: "
   ]
  },
  {
   "cell_type": "code",
   "execution_count": 18,
   "metadata": {},
   "outputs": [],
   "source": [
    "A = np.array([[1, 4, 2],\n",
    "              [2, 1, -2],\n",
    "              [0, 1, -1]])\n",
    "\n",
    "B = np.array([[4, 6, -2],\n",
    "              [4, 10, 1],\n",
    "              [2, 4, -5]])"
   ]
  },
  {
   "attachments": {},
   "cell_type": "markdown",
   "metadata": {},
   "source": [
    "#### a) Обчислимо значення матричного виразу з використанням **універсальних функцій бібліотеки NumPy**: "
   ]
  },
  {
   "cell_type": "code",
   "execution_count": 19,
   "metadata": {},
   "outputs": [
    {
     "name": "stdout",
     "output_type": "stream",
     "text": [
      "NumPy result:\n",
      " [[ -94 -190  -36]\n",
      " [-106 -236   20]\n",
      " [ -20  -38  -28]]\n"
     ]
    }
   ],
   "source": [
    "num_res = 2 * A - ((A @ A) + B) @ B\n",
    "print(\"NumPy result:\\n\", num_res)"
   ]
  },
  {
   "attachments": {},
   "cell_type": "markdown",
   "metadata": {},
   "source": [
    "#### b) Напишемо свої операції для обчислення матричного виразу:"
   ]
  },
  {
   "cell_type": "code",
   "execution_count": 20,
   "metadata": {},
   "outputs": [],
   "source": [
    "def dot(A, B):\n",
    "    if A.shape[1] != B.shape[0]:\n",
    "        raise ValueError(\"The number of columns in matrix A must be equal to the number of rows in matrix B for multiplication.\")\n",
    "    \n",
    "    result = np.zeros_like(A)\n",
    "    for i in range(A.shape[0]):\n",
    "        for j in range(B.shape[1]):\n",
    "            for k in range(A.shape[1]):\n",
    "                result[i][j] += A[i][k] * B[k][j]\n",
    "    return result\n",
    "\n",
    "def add(A, B):\n",
    "    if A.shape != B.shape:\n",
    "        raise ValueError(\"Matrices must have the same shape for addition.\")\n",
    "        \n",
    "    result = np.zeros_like(A)\n",
    "    for i in range(A.shape[0]):\n",
    "        for j in range(A.shape[1]):\n",
    "            result[i][j] = A[i][j] + B[i][j]\n",
    "    return result\n",
    "\n",
    "def sdot(scalar, matrix):\n",
    "    result = np.zeros_like(matrix)\n",
    "    for i in range(matrix.shape[0]):\n",
    "        for j in range(matrix.shape[1]):\n",
    "            result[i][j] = scalar * matrix[i][j]\n",
    "    return result"
   ]
  },
  {
   "attachments": {},
   "cell_type": "markdown",
   "metadata": {},
   "source": [
    "Обчислимо значення матричного виразу:"
   ]
  },
  {
   "cell_type": "code",
   "execution_count": 21,
   "metadata": {},
   "outputs": [
    {
     "name": "stdout",
     "output_type": "stream",
     "text": [
      "[[ -94 -190  -36]\n",
      " [-106 -236   20]\n",
      " [ -20  -38  -28]]\n"
     ]
    }
   ],
   "source": [
    "A_squared = dot(A, A)\n",
    "A_squared_plus_B = add(A_squared, B)\n",
    "it_res = sdot(2, A) - dot(A_squared_plus_B, B)\n",
    "\n",
    "print(it_res)"
   ]
  },
  {
   "attachments": {},
   "cell_type": "markdown",
   "metadata": {},
   "source": [
    "#### c) Для обох випадків підрахуємо **час виконання** скрипту та зробимо висновок."
   ]
  },
  {
   "cell_type": "code",
   "execution_count": 22,
   "metadata": {},
   "outputs": [
    {
     "name": "stdout",
     "output_type": "stream",
     "text": [
      "2.32 µs ± 123 ns per loop (mean ± std. dev. of 7 runs, 1,000 loops each)\n"
     ]
    }
   ],
   "source": [
    "%%timeit -n 1000 \n",
    "\n",
    "num_res = 2 * A - ((A @ A) + B) @ B"
   ]
  },
  {
   "cell_type": "code",
   "execution_count": 23,
   "metadata": {},
   "outputs": [
    {
     "name": "stdout",
     "output_type": "stream",
     "text": [
      "39.8 µs ± 2.95 µs per loop (mean ± std. dev. of 7 runs, 1,000 loops each)\n"
     ]
    }
   ],
   "source": [
    "%%timeit -n 1000\n",
    "A_squared = dot(A, A)\n",
    "A_squared_plus_B = add(A_squared, B)\n",
    "it_res = sdot(2, A) - dot(A_squared_plus_B, B)"
   ]
  },
  {
   "attachments": {},
   "cell_type": "markdown",
   "metadata": {},
   "source": [
    "##### Висновок:\n",
    "\n",
    "Вбудовані матричні операції швидше власноруч написаних в ~16.32 раз, оскільки написані на мові програмування C."
   ]
  },
  {
   "attachments": {},
   "cell_type": "markdown",
   "metadata": {},
   "source": [
    "#### d) Порівняємо всі рішення за допомогою функції **numpy.allclose()**."
   ]
  },
  {
   "cell_type": "code",
   "execution_count": 24,
   "metadata": {},
   "outputs": [
    {
     "name": "stdout",
     "output_type": "stream",
     "text": [
      "\n",
      "NumPy result == Iterative result: True\n"
     ]
    }
   ],
   "source": [
    "print(\"\\nNumPy result == Iterative result:\", np.allclose(num_res, it_res))"
   ]
  }
 ],
 "metadata": {
  "kernelspec": {
   "display_name": "first",
   "language": "python",
   "name": "python3"
  },
  "language_info": {
   "codemirror_mode": {
    "name": "ipython",
    "version": 3
   },
   "file_extension": ".py",
   "mimetype": "text/x-python",
   "name": "python",
   "nbconvert_exporter": "python",
   "pygments_lexer": "ipython3",
   "version": "3.10.11"
  },
  "orig_nbformat": 4
 },
 "nbformat": 4,
 "nbformat_minor": 2
}
