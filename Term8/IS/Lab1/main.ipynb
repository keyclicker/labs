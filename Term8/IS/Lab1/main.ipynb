{
 "cells": [
  {
   "attachments": {},
   "cell_type": "markdown",
   "metadata": {},
   "source": [
    "# Task 4\n",
    "\n",
    "За допомогою мови Markdown та HTML тегів для країни, відповідно до свого номеру варіанту (див. табл.3.1),\n",
    "\n",
    "ввести інформацію щодо площини, населення, державного устрою, видатних персоналій, пам’яток культури та природи тощо.\n",
    "\n",
    "При оформленні інформації повинні бути використані:\n",
    "\n",
    "- заголовки різних рівнів;\n",
    "- різні види накреслення символів (курсив, напівжирний тощо);\n",
    "- символи різних кольорів; \n",
    "- рамки навколо тексту;\n",
    "- таблиці;\n",
    "- вкладенісписки;\n",
    "- картинки за допомогою посилань та вбудовані;\n",
    "- гіперпосилання;\n",
    "- задопомогою HTML тегу `<svg>` нарисувати флаг країни."
   ]
  },
  {
   "attachments": {},
   "cell_type": "markdown",
   "metadata": {},
   "source": [
    "# Djibouti 🇩🇯\n",
    "\n",
    "---\n",
    "\n",
    "<div style=\"padding: 8px\">\n",
    "  <svg xmlns=\"http://www.w3.org/2000/svg\" width=\"900\" height=\"600\">\n",
    "    <path fill=\"#6ab2e7\" d=\"M0 0h900v600H0z\"></path>\n",
    "    <path fill=\"#12ad2b\" d=\"M0 300h900v300H0z\"></path>\n",
    "    <path d=\"M0 0v600l259.808-150 259.807-150-259.807-150z\" fill=\"#fff\"></path>\n",
    "    <path d=\"M198.86 225l18.616 57.295h60.243l-48.738 35.41L247.598 375l-48.738-35.41L150.122 375l18.616-57.295L120 282.295h60.243z\" fill=\"#d7141a\"></path>\n",
    "  </svg>\n",
    "</div>\n",
    "\n",
    "<iframe width=\"560\" height=\"315\" src=\"https://www.youtube.com/embed/SI0VtKY6VYM\" title=\"YouTube video player\" frameborder=\"0\" allow=\"accelerometer; autoplay; clipboard-write; encrypted-media; gyroscope; picture-in-picture; web-share\" allowfullscreen></iframe>\n",
    "\n",
    "## Table of Contents\n",
    "1. [Area](#area)\n",
    "2. [Population](#population)\n",
    "3. [Government](#government)\n",
    "4. [Prominent Personalities](#prominent-personalities)\n",
    "5. [Cultural and Natural Monuments](#cultural-and-natural-monuments)\n",
    "\n",
    "<div style=\"border: 2px solid black; padding: 10px; margin: 10px; width: 50%\">\n",
    "\n",
    "## Area\n",
    "Djibouti has a total area of **23,200 km²** (8,958 sq mi).\n",
    "\n",
    "</div>\n",
    "\n",
    "## Population\n",
    "According to the 2021 estimate, Djibouti has a population of *<span style=\"color: blue;\">1,044,000</span>*.\n",
    "\n",
    "## Government\n",
    "Djibouti is a **_unitary_ parliamentary republic**. The President is the Head of State, and the Prime Minister is the Head of Government.\n",
    "\n",
    "## Prominent Personalities\n",
    "\n",
    "- *Ismaïl Omar Guelleh*: President of Djibouti (1999 - present)\n",
    "- *Abdoulkader Kamil Mohamed*: Prime Minister of Djibouti (2013 - present)\n",
    "\n",
    "## Cultural and Natural Monuments\n",
    "\n",
    "1. **Lake Assal**: A crater lake in the central part of Djibouti. It is the lowest point on the African continent and the third-lowest point on Earth.\n",
    "   - ![Lake Assal](https://ychef.files.bbci.co.uk/live/624x351/p06cz1tf.jpg)\n",
    "\n",
    "2. **Tadjoura Mosque**: One of the oldest mosques in the Horn of Africa, located in the town of Tadjoura.\n",
    "   - [Visit the Tadjoura Mosque website](https://www.youtube.com/watch?v=dQw4w9WgXcQ)\n",
    "\n",
    "3. **Day Forest National Park**: A national park that covers an area of 3.5 square kilometers and is home to many rare species of flora and fauna.\n",
    "\n",
    "### Table: Main Cities\n",
    "| City          | Population | Region        |\n",
    "|---------------|------------|---------------|\n",
    "| Djibouti City | 624,000    | Djibouti      |\n",
    "| Ali Sabieh    | 55,000     | Ali Sabieh    |\n",
    "| Tadjoura      | 45,000     | Tadjoura      |\n",
    "| Obock         | 21,000     | Obock         |\n",
    "| Dikhil        | 12,000     | Dikhil        |\n",
    "\n"
   ]
  },
  {
   "attachments": {},
   "cell_type": "markdown",
   "metadata": {},
   "source": [
    "# Task 5\n",
    "\n",
    "Розробити функцію для реалізації алгоритму, відповідно до номеру свого варіанту з табл. 4.2. \n",
    "\n",
    "Для створеної функції реалізувати 2-3 тестові приклади в комірках ноутбуку. Для всіх варіантів організувати контроль значень, що вводяться.\n",
    "\n",
    "### Variant 4\n",
    "\n",
    "Реалізувати сортування методом бульбашки.\n",
    "\n",
    "Підрахувати скільки разів було виконано переставлення елементів. Список вводиться в рядок через пробіл."
   ]
  },
  {
   "cell_type": "code",
   "execution_count": 11,
   "metadata": {},
   "outputs": [],
   "source": [
    "def bubble_sort(ls: list) -> tuple[list, int]:\n",
    "    new_ls = ls.copy()\n",
    "    swap_count = 0\n",
    "    while True:\n",
    "        swapped = False\n",
    "        for i in range(len(new_ls) - 1):\n",
    "            if new_ls[i] > new_ls[i + 1]:\n",
    "                new_ls[i], new_ls[i + 1] = new_ls[i + 1], new_ls[i]\n",
    "                swapped = True\n",
    "                swap_count += 1\n",
    "            \n",
    "        if not swapped:\n",
    "            break\n",
    "    return new_ls, swap_count \n",
    "\n",
    "def print_tuple(t: tuple):\n",
    "    print(f'Sorted list: {t[0]}')\n",
    "    print(f'Swap count: {t[1]}')"
   ]
  },
  {
   "cell_type": "code",
   "execution_count": 12,
   "metadata": {},
   "outputs": [
    {
     "name": "stdout",
     "output_type": "stream",
     "text": [
      "Sorted list: [1, 2, 3, 4, 5, 6, 7, 8, 9, 10]\n",
      "Swap count: 19\n"
     ]
    }
   ],
   "source": [
    "unsorted = [4, 5, 10, 6, 1, 2, 8, 7, 3, 9]\n",
    "print_tuple(bubble_sort(unsorted))"
   ]
  },
  {
   "cell_type": "code",
   "execution_count": 13,
   "metadata": {},
   "outputs": [
    {
     "name": "stdout",
     "output_type": "stream",
     "text": [
      "Sorted list: ['Chernivtsi', 'Dnipro', 'Kharkiv', 'Kyiv', 'Lviv', 'Odesa']\n",
      "Swap count: 11\n"
     ]
    }
   ],
   "source": [
    "strs = ['Kyiv', 'Lviv', 'Kharkiv', 'Odesa', 'Dnipro', 'Chernivtsi']\n",
    "print_tuple(bubble_sort(strs))"
   ]
  },
  {
   "cell_type": "code",
   "execution_count": 14,
   "metadata": {},
   "outputs": [
    {
     "name": "stdout",
     "output_type": "stream",
     "text": [
      "'>' not supported between instances of 'str' and 'int'\n"
     ]
    }
   ],
   "source": [
    "strs = ['Kyiv', 'Lviv', 4, 3, 6, 'Odesa', 'Dnipro', 'Chernivtsi']\n",
    "try:\n",
    "    print_tuple(bubble_sort(strs))\n",
    "except TypeError as e:\n",
    "    print(e)"
   ]
  },
  {
   "cell_type": "code",
   "execution_count": 16,
   "metadata": {},
   "outputs": [
    {
     "name": "stdout",
     "output_type": "stream",
     "text": [
      "invalid literal for int() with base 10: 'f'\n"
     ]
    }
   ],
   "source": [
    "try :\n",
    "    unsorted = [int(i) for i in input('Enter numbers separated by space: ').split()]\n",
    "    print_tuple(bubble_sort(unsorted))\n",
    "except Exception as e:\n",
    "    print(e)"
   ]
  }
 ],
 "metadata": {
  "kernelspec": {
   "display_name": "Python 3",
   "language": "python",
   "name": "python3"
  },
  "language_info": {
   "codemirror_mode": {
    "name": "ipython",
    "version": 3
   },
   "file_extension": ".py",
   "mimetype": "text/x-python",
   "name": "python",
   "nbconvert_exporter": "python",
   "pygments_lexer": "ipython3",
   "version": "3.11.3"
  },
  "orig_nbformat": 4
 },
 "nbformat": 4,
 "nbformat_minor": 2
}
